{
 "cells": [
  {
   "cell_type": "markdown",
   "id": "a1d93070",
   "metadata": {},
   "source": [
    "# HOW TO ORGANIZE PYTORCH INTO LIGHTNING\n",
    "### 본 문서는 PyTorch Lightning의 [공식 가이드](https://pytorch-lightning.readthedocs.io/en/latest/starter/converting.html)의 한글 번역본입니다. (옮긴이 [dnap512](https://github.com/dnap512), 21.7.13)\n",
    "코드가 Lightning과 작동할 수 있도록 PyTorch를 Lightning으로 구성하는 방법은 다음과 같습니다.\n",
    "\n",
    "---\n"
   ]
  },
  {
   "cell_type": "markdown",
   "id": "6d2ee679",
   "metadata": {},
   "source": [
    "## 1. Computational code 옮기기\n",
    "\n",
    "모델 아키텍처와 forward pass를 Lightning module로 전달합니다."
   ]
  },
  {
   "cell_type": "code",
   "execution_count": null,
   "id": "6220154c",
   "metadata": {
    "ExecuteTime": {
     "end_time": "2021-07-13T05:56:58.936938Z",
     "start_time": "2021-07-13T05:56:56.203750Z"
    }
   },
   "outputs": [],
   "source": [
    "import pytorch_lightning as pl\n",
    "from pytorch_lightning import LightningModule\n",
    "\n",
    "class LitModel(LightningModule):\n",
    "\n",
    "    def __init__(self):\n",
    "        super().__init__()\n",
    "        self.layer_1 = nn.Linear(28 * 28, 128)\n",
    "        self.layer_2 = nn.Linear(128, 10)\n",
    "\n",
    "    def forward(self, x):\n",
    "        x = x.view(x.size(0), -1)\n",
    "        x = self.layer_1(x)\n",
    "        x = F.relu(x)\n",
    "        x = self.layer_2(x)\n",
    "        return x"
   ]
  },
  {
   "cell_type": "markdown",
   "id": "a13a1d3d",
   "metadata": {},
   "source": [
    "---"
   ]
  },
  {
   "cell_type": "markdown",
   "id": "ab1a4b30",
   "metadata": {},
   "source": [
    "## 2. Optimizer와 Scheduler 옮기기\n",
    "\n",
    "옵티마이저를 `configure_optimizers()` hook으로 옮깁니다.\n"
   ]
  },
  {
   "cell_type": "code",
   "execution_count": null,
   "id": "ea148753",
   "metadata": {
    "ExecuteTime": {
     "end_time": "2021-07-13T06:17:24.458705Z",
     "start_time": "2021-07-13T06:17:24.454796Z"
    }
   },
   "outputs": [],
   "source": [
    "class LitModel(LightningModule):\n",
    "\n",
    "    def configure_optimizers(self):\n",
    "        optimizer = torch.optim.Adam(self.parameters(), lr=1e-3)\n",
    "        return optimizer"
   ]
  },
  {
   "cell_type": "markdown",
   "id": "e6d1d6f6",
   "metadata": {},
   "source": [
    "---"
   ]
  },
  {
   "cell_type": "markdown",
   "id": "1c390f0a",
   "metadata": {},
   "source": [
    "## 3. Train loop 알맹이 찾기\n",
    "\n",
    "Lightning은 대부분의 Train, Epoch 및 Batch iteration을 자동화합니다. 유지해야 하는 것은 training step 논리 뿐입니다. 이것을 `training_step()` hook으로 이동해야 합니다(이 경우 hook parameters인, batch와 batch_idx를 사용해야 함)."
   ]
  },
  {
   "cell_type": "code",
   "execution_count": null,
   "id": "da31d0da",
   "metadata": {
    "ExecuteTime": {
     "end_time": "2021-07-13T06:19:51.976367Z",
     "start_time": "2021-07-13T06:19:51.971071Z"
    }
   },
   "outputs": [],
   "source": [
    "class LitModel(LightningModule):\n",
    "\n",
    "    def training_step(self, batch, batch_idx):\n",
    "        x, y = batch\n",
    "        y_hat = self(x)\n",
    "        loss = F.cross_entropy(y_hat, y)\n",
    "        return loss"
   ]
  },
  {
   "cell_type": "markdown",
   "id": "d3650065",
   "metadata": {},
   "source": [
    "---"
   ]
  },
  {
   "cell_type": "markdown",
   "id": "b45e7f91",
   "metadata": {},
   "source": [
    "## 4. Val loop 알맹이 찾기\n",
    "\n",
    "(선택 사항) 검증 루프를 추가하려면 `validation_step()` hook에 논리를 추가하세요(이 경우 hook parameters인, batch와 batch_idx를 사용해야 함)."
   ]
  },
  {
   "cell_type": "code",
   "execution_count": null,
   "id": "a224fd89",
   "metadata": {
    "ExecuteTime": {
     "end_time": "2021-07-13T06:21:18.535814Z",
     "start_time": "2021-07-13T06:21:18.532156Z"
    }
   },
   "outputs": [],
   "source": [
    "class LitModel(LightningModule):\n",
    "\n",
    "    def validation_step(self, batch, batch_idx):\n",
    "        x, y = batch\n",
    "        y_hat = self(x)\n",
    "        val_loss = F.cross_entropy(y_hat, y)\n",
    "        return val_loss"
   ]
  },
  {
   "cell_type": "markdown",
   "id": "c8a1ab64",
   "metadata": {},
   "source": [
    "> NOTE: `model.eval()`과 `torch.no_grad()`은 Validation 시 자동으로 호출됩니다.\n",
    "\n",
    "---"
   ]
  },
  {
   "cell_type": "markdown",
   "id": "6717e818",
   "metadata": {},
   "source": [
    "## 5. Test loop 알맹이 찾기\n",
    "\n",
    "(선택 사항) 검증 루프를 추가하려면 `test_step()` hook에 논리를 추가하세요(이 경우 hook parameters인, batch와 batch_idx를 사용해야 함)."
   ]
  },
  {
   "cell_type": "code",
   "execution_count": null,
   "id": "e1dbe89e",
   "metadata": {
    "ExecuteTime": {
     "end_time": "2021-07-13T06:30:37.075745Z",
     "start_time": "2021-07-13T06:30:37.070527Z"
    }
   },
   "outputs": [],
   "source": [
    "class LitModel(LightningModule):\n",
    "\n",
    "    def test_step(self, batch, batch_idx):\n",
    "        x, y = batch\n",
    "        y_hat = self(x)\n",
    "        loss = F.cross_entropy(y_hat, y)\n",
    "        return loss"
   ]
  },
  {
   "cell_type": "markdown",
   "id": "374e63cb",
   "metadata": {},
   "source": [
    "> NOTE: `model.eval()`과 `torch.no_grad()`은 test 시 자동으로 호출됩니다.\n",
    "\n",
    "테스트는 자동으로 이뤄지지 않습니다.\n"
   ]
  },
  {
   "cell_type": "code",
   "execution_count": null,
   "id": "e73f016d",
   "metadata": {
    "ExecuteTime": {
     "end_time": "2021-07-13T06:30:38.110705Z",
     "start_time": "2021-07-13T06:30:37.982470Z"
    }
   },
   "outputs": [],
   "source": [
    "trainer.test()"
   ]
  },
  {
   "cell_type": "markdown",
   "id": "0512ec68",
   "metadata": {},
   "source": [
    "> TIP: `.test()`은 모델의 Best checkpoint를 자동으로 로드합니다."
   ]
  },
  {
   "cell_type": "markdown",
   "id": "7b109ec6",
   "metadata": {},
   "source": [
    "## 6. `.cuda()`와 `to.device()` 호출 제거하기\n",
    "\n",
    "[Lightning 모듈](https://pytorch-lightning.readthedocs.io/en/latest/common/lightning_module.html)은 어떠한 하드웨어 조건에서도 자동으로 실행될 수 있습니다!"
   ]
  }
 ],
 "metadata": {
  "kernelspec": {
   "display_name": "Python 3",
   "language": "python",
   "name": "python3"
  },
  "language_info": {
   "codemirror_mode": {
    "name": "ipython",
    "version": 3
   },
   "file_extension": ".py",
   "mimetype": "text/x-python",
   "name": "python",
   "nbconvert_exporter": "python",
   "pygments_lexer": "ipython3",
   "version": "3.8.10"
  },
  "toc": {
   "base_numbering": 1,
   "nav_menu": {},
   "number_sections": false,
   "sideBar": true,
   "skip_h1_title": false,
   "title_cell": "Table of Contents",
   "title_sidebar": "Contents",
   "toc_cell": false,
   "toc_position": {},
   "toc_section_display": true,
   "toc_window_display": false
  }
 },
 "nbformat": 4,
 "nbformat_minor": 5
}
