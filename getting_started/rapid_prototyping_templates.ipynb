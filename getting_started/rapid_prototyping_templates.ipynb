{
 "cells": [
  {
   "cell_type": "markdown",
   "id": "3b9a6213",
   "metadata": {},
   "source": [
    "# RAPID PROTOTYPING TEMPLATES\n",
    "### 본 문서는 PyTorch Lightning의 [공식 가이드](https://pytorch-lightning.readthedocs.io/en/latest/starter/rapid_prototyping_templates.html)의 한글 번역본입니다. (옮긴이 [dnap512](https://github.com/dnap512), 21.7.13)\n",
    "\n",
    "신속한 prtotyping을 위해 아래 템플릿을 사용하세요.\n",
    "\n",
    "---\n",
    "\n",
    "## General Use\n",
    "\n",
    "|시나리오|설명|링크|\n",
    "|:------|:---|:---|\n",
    "|Scratch model|빠른 프로토타입 제작/임의 데이터로 디버그|[![colab](http://bit.ly/pl_colab)](https://colab.research.google.com/drive/1rHBxrtopwtF8iLpmC_e7yl3TeDGrseJL?usp=sharing%3E)|\n",
    "|수동 최적화 모드를 사용하는 Scratch model|빠른 프로토타입 제작/임의 데이터로 디버그|[![colab](http://bit.ly/pl_colab)](https://colab.research.google.com/drive/1nGtvBFirIvtNQdppe2xBes6aJnZMjvl8?usp=sharing)|"
   ]
  },
  {
   "cell_type": "code",
   "execution_count": null,
   "id": "7585be58",
   "metadata": {},
   "outputs": [],
   "source": []
  }
 ],
 "metadata": {
  "kernelspec": {
   "display_name": "Python 3",
   "language": "python",
   "name": "python3"
  },
  "language_info": {
   "codemirror_mode": {
    "name": "ipython",
    "version": 3
   },
   "file_extension": ".py",
   "mimetype": "text/x-python",
   "name": "python",
   "nbconvert_exporter": "python",
   "pygments_lexer": "ipython3",
   "version": "3.8.10"
  },
  "toc": {
   "base_numbering": 1,
   "nav_menu": {},
   "number_sections": false,
   "sideBar": true,
   "skip_h1_title": false,
   "title_cell": "Table of Contents",
   "title_sidebar": "Contents",
   "toc_cell": false,
   "toc_position": {},
   "toc_section_display": true,
   "toc_window_display": false
  }
 },
 "nbformat": 4,
 "nbformat_minor": 5
}
