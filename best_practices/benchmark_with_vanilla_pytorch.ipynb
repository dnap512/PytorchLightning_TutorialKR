{
 "cells": [
  {
   "cell_type": "markdown",
   "id": "5df68058",
   "metadata": {},
   "source": [
    "# BENCHMARK WITH VANILLA PYTORCH\n",
    "### 본 문서는 PyTorch Lightning의 [공식 가이드](https://pytorch-lightning.readthedocs.io/en/latest/benchmarking/benchmarks.html)의 한글 번역본입니다. (옮긴이 [dnap512](https://github.com/dnap512), 21.7.14)\n",
    "\n",
    "\n",
    "여기서는 보통 일반적인 시나리오에 대해 기본 PyTorch와 PT Lightning을 비교하기 위한 근거를 제시합니다.\n",
    "\n",
    "## 시간 비교\n",
    "\n",
    "우리는 CI에 따라 RNN과 간단한 MNIST 분류기를 사용하여 PyTorch 바닐라 훈련 루프에 대한 정규 벤치마킹을 설정했습니다. 간단한 MNIST CNN 분류기의 경우 평균적으로 Epoch당 약 0.06초만 더 느립니다. 아래 세부 차트를 참조하세요.\n",
    "\n",
    "![이미지](https://pytorch-lightning.readthedocs.io/en/latest/_images/figure-parity-times.png)"
   ]
  },
  {
   "cell_type": "code",
   "execution_count": null,
   "id": "b6b67b91",
   "metadata": {},
   "outputs": [],
   "source": []
  }
 ],
 "metadata": {
  "kernelspec": {
   "display_name": "Python 3",
   "language": "python",
   "name": "python3"
  },
  "language_info": {
   "codemirror_mode": {
    "name": "ipython",
    "version": 3
   },
   "file_extension": ".py",
   "mimetype": "text/x-python",
   "name": "python",
   "nbconvert_exporter": "python",
   "pygments_lexer": "ipython3",
   "version": "3.8.10"
  },
  "toc": {
   "base_numbering": 1,
   "nav_menu": {},
   "number_sections": false,
   "sideBar": true,
   "skip_h1_title": false,
   "title_cell": "Table of Contents",
   "title_sidebar": "Contents",
   "toc_cell": false,
   "toc_position": {},
   "toc_section_display": true,
   "toc_window_display": false
  }
 },
 "nbformat": 4,
 "nbformat_minor": 5
}
